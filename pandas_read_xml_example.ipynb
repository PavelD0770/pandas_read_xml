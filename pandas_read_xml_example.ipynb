{
  "nbformat": 4,
  "nbformat_minor": 0,
  "metadata": {
    "colab": {
      "name": "pandas_read_xml_example.ipynb",
      "provenance": [],
      "authorship_tag": "ABX9TyN2gJv4pELvtNjJXQdPczGE",
      "include_colab_link": true
    },
    "kernelspec": {
      "name": "python3",
      "display_name": "Python 3"
    }
  },
  "cells": [
    {
      "cell_type": "markdown",
      "metadata": {
        "id": "view-in-github",
        "colab_type": "text"
      },
      "source": [
        "<a href=\"https://colab.research.google.com/github/minchulkim87/pandas_read_xml/blob/master/pandas_read_xml_example.ipynb\" target=\"_parent\"><img src=\"https://colab.research.google.com/assets/colab-badge.svg\" alt=\"Open In Colab\"/></a>"
      ]
    },
    {
      "cell_type": "code",
      "metadata": {
        "id": "jSx6LaJWXRrn",
        "colab_type": "code",
        "colab": {}
      },
      "source": [
        "%%capture\n",
        "!pip install pandas_read_xml\n",
        "\n",
        "# restart runtime after this install to allow Google colab to use the updated packages."
      ],
      "execution_count": 0,
      "outputs": []
    },
    {
      "cell_type": "code",
      "metadata": {
        "id": "gP9qICjKXXnI",
        "colab_type": "code",
        "colab": {}
      },
      "source": [
        "import pandas_read_xml as pdx"
      ],
      "execution_count": 0,
      "outputs": []
    },
    {
      "cell_type": "code",
      "metadata": {
        "id": "FzPCJ3QeXmew",
        "colab_type": "code",
        "colab": {}
      },
      "source": [
        "test_zip_path = 'https://bulkdata.uspto.gov/data/trademark/dailyxml/applications/apc200219.zip'\n",
        "root_key_list = ['trademark-applications-daily', 'application-information', 'file-segments', 'action-keys']\n",
        "\n",
        "df = pdx.read_xml(test_zip_path, root_key_list)"
      ],
      "execution_count": 0,
      "outputs": []
    },
    {
      "cell_type": "code",
      "metadata": {
        "id": "mbnJ643wXt3P",
        "colab_type": "code",
        "colab": {
          "base_uri": "https://localhost:8080/",
          "height": 142
        },
        "outputId": "5e04d321-8d92-43cb-e006-378d2fa50fc4"
      },
      "source": [
        "df"
      ],
      "execution_count": 5,
      "outputs": [
        {
          "output_type": "execute_result",
          "data": {
            "text/html": [
              "<div>\n",
              "<style scoped>\n",
              "    .dataframe tbody tr th:only-of-type {\n",
              "        vertical-align: middle;\n",
              "    }\n",
              "\n",
              "    .dataframe tbody tr th {\n",
              "        vertical-align: top;\n",
              "    }\n",
              "\n",
              "    .dataframe thead th {\n",
              "        text-align: right;\n",
              "    }\n",
              "</style>\n",
              "<table border=\"1\" class=\"dataframe\">\n",
              "  <thead>\n",
              "    <tr style=\"text-align: right;\">\n",
              "      <th></th>\n",
              "      <th>action-key</th>\n",
              "      <th>case-file</th>\n",
              "    </tr>\n",
              "  </thead>\n",
              "  <tbody>\n",
              "    <tr>\n",
              "      <th>0</th>\n",
              "      <td>IB</td>\n",
              "      <td>[{'serial-number': '71360939', 'registration-n...</td>\n",
              "    </tr>\n",
              "    <tr>\n",
              "      <th>1</th>\n",
              "      <td>NA</td>\n",
              "      <td>[{'serial-number': '88799180', 'registration-n...</td>\n",
              "    </tr>\n",
              "    <tr>\n",
              "      <th>2</th>\n",
              "      <td>TX</td>\n",
              "      <td>[{'serial-number': '71119469', 'registration-n...</td>\n",
              "    </tr>\n",
              "  </tbody>\n",
              "</table>\n",
              "</div>"
            ],
            "text/plain": [
              "  action-key                                          case-file\n",
              "0         IB  [{'serial-number': '71360939', 'registration-n...\n",
              "1         NA  [{'serial-number': '88799180', 'registration-n...\n",
              "2         TX  [{'serial-number': '71119469', 'registration-n..."
            ]
          },
          "metadata": {
            "tags": []
          },
          "execution_count": 5
        }
      ]
    },
    {
      "cell_type": "code",
      "metadata": {
        "id": "ezlRmb4JYfan",
        "colab_type": "code",
        "colab": {}
      },
      "source": [
        "from pandas_read_xml import auto_separate_tables\n",
        "\n",
        "key_columns = ['action-key', 'case-file|serial-number']\n",
        "\n",
        "data = df.pipe(auto_separate_tables, key_columns)"
      ],
      "execution_count": 0,
      "outputs": []
    },
    {
      "cell_type": "code",
      "metadata": {
        "id": "Wjo9znGHY4nz",
        "colab_type": "code",
        "colab": {
          "base_uri": "https://localhost:8080/",
          "height": 54
        },
        "outputId": "a7a24e2d-3989-4f75-9772-4f41c2d78459"
      },
      "source": [
        "data.keys()"
      ],
      "execution_count": 7,
      "outputs": [
        {
          "output_type": "execute_result",
          "data": {
            "text/plain": [
              "dict_keys(['case-file-header', 'case-file-statements', 'case-file-event-statements', 'classifications', 'correspondent', 'case-file-owners', 'madrid-international-filing-requests', 'prior-registration-applications', 'design-searches', 'foreign-applications', 'international-registration', 'case-file'])"
            ]
          },
          "metadata": {
            "tags": []
          },
          "execution_count": 7
        }
      ]
    },
    {
      "cell_type": "code",
      "metadata": {
        "id": "zR5qBiLQZLzH",
        "colab_type": "code",
        "colab": {
          "base_uri": "https://localhost:8080/",
          "height": 456
        },
        "outputId": "1ad2756b-9c85-4b4e-80a6-d5d87f157ddb"
      },
      "source": [
        "data['classifications']"
      ],
      "execution_count": 8,
      "outputs": [
        {
          "output_type": "execute_result",
          "data": {
            "text/html": [
              "<div>\n",
              "<style scoped>\n",
              "    .dataframe tbody tr th:only-of-type {\n",
              "        vertical-align: middle;\n",
              "    }\n",
              "\n",
              "    .dataframe tbody tr th {\n",
              "        vertical-align: top;\n",
              "    }\n",
              "\n",
              "    .dataframe thead th {\n",
              "        text-align: right;\n",
              "    }\n",
              "</style>\n",
              "<table border=\"1\" class=\"dataframe\">\n",
              "  <thead>\n",
              "    <tr style=\"text-align: right;\">\n",
              "      <th></th>\n",
              "      <th>action-key</th>\n",
              "      <th>serial-number</th>\n",
              "      <th>classification|international-code-total-no</th>\n",
              "      <th>classification|us-code-total-no</th>\n",
              "      <th>classification|international-code</th>\n",
              "      <th>classification|us-code</th>\n",
              "      <th>classification|status-code</th>\n",
              "      <th>classification|status-date</th>\n",
              "      <th>classification|first-use-anywhere-date</th>\n",
              "      <th>classification|first-use-in-commerce-date</th>\n",
              "      <th>classification|primary-code</th>\n",
              "    </tr>\n",
              "  </thead>\n",
              "  <tbody>\n",
              "    <tr>\n",
              "      <th>0</th>\n",
              "      <td>IB</td>\n",
              "      <td>75492899</td>\n",
              "      <td>1</td>\n",
              "      <td>3</td>\n",
              "      <td>036</td>\n",
              "      <td>100</td>\n",
              "      <td>6</td>\n",
              "      <td>19990331</td>\n",
              "      <td>19550825</td>\n",
              "      <td>19550825</td>\n",
              "      <td>036</td>\n",
              "    </tr>\n",
              "    <tr>\n",
              "      <th>1</th>\n",
              "      <td>IB</td>\n",
              "      <td>75492899</td>\n",
              "      <td>1</td>\n",
              "      <td>3</td>\n",
              "      <td>036</td>\n",
              "      <td>101</td>\n",
              "      <td>6</td>\n",
              "      <td>19990331</td>\n",
              "      <td>19550825</td>\n",
              "      <td>19550825</td>\n",
              "      <td>036</td>\n",
              "    </tr>\n",
              "    <tr>\n",
              "      <th>2</th>\n",
              "      <td>IB</td>\n",
              "      <td>75492899</td>\n",
              "      <td>1</td>\n",
              "      <td>3</td>\n",
              "      <td>036</td>\n",
              "      <td>102</td>\n",
              "      <td>6</td>\n",
              "      <td>19990331</td>\n",
              "      <td>19550825</td>\n",
              "      <td>19550825</td>\n",
              "      <td>036</td>\n",
              "    </tr>\n",
              "    <tr>\n",
              "      <th>3</th>\n",
              "      <td>IB</td>\n",
              "      <td>75492899</td>\n",
              "      <td>1</td>\n",
              "      <td>3</td>\n",
              "      <td>041</td>\n",
              "      <td>100</td>\n",
              "      <td>6</td>\n",
              "      <td>19980711</td>\n",
              "      <td>19550825</td>\n",
              "      <td>19550825</td>\n",
              "      <td>041</td>\n",
              "    </tr>\n",
              "    <tr>\n",
              "      <th>4</th>\n",
              "      <td>IB</td>\n",
              "      <td>75492899</td>\n",
              "      <td>1</td>\n",
              "      <td>3</td>\n",
              "      <td>041</td>\n",
              "      <td>101</td>\n",
              "      <td>6</td>\n",
              "      <td>19980711</td>\n",
              "      <td>19550825</td>\n",
              "      <td>19550825</td>\n",
              "      <td>041</td>\n",
              "    </tr>\n",
              "    <tr>\n",
              "      <th>...</th>\n",
              "      <td>...</td>\n",
              "      <td>...</td>\n",
              "      <td>...</td>\n",
              "      <td>...</td>\n",
              "      <td>...</td>\n",
              "      <td>...</td>\n",
              "      <td>...</td>\n",
              "      <td>...</td>\n",
              "      <td>...</td>\n",
              "      <td>...</td>\n",
              "      <td>...</td>\n",
              "    </tr>\n",
              "    <tr>\n",
              "      <th>173543</th>\n",
              "      <td>TX</td>\n",
              "      <td>88976803</td>\n",
              "      <td>1</td>\n",
              "      <td>1</td>\n",
              "      <td>029</td>\n",
              "      <td>046</td>\n",
              "      <td>6</td>\n",
              "      <td>20190506</td>\n",
              "      <td>0</td>\n",
              "      <td>0</td>\n",
              "      <td>029</td>\n",
              "    </tr>\n",
              "    <tr>\n",
              "      <th>173544</th>\n",
              "      <td>TX</td>\n",
              "      <td>88976812</td>\n",
              "      <td>1</td>\n",
              "      <td>1</td>\n",
              "      <td>030</td>\n",
              "      <td>046</td>\n",
              "      <td>6</td>\n",
              "      <td>20190408</td>\n",
              "      <td>20190409</td>\n",
              "      <td>20190409</td>\n",
              "      <td>030</td>\n",
              "    </tr>\n",
              "    <tr>\n",
              "      <th>173545</th>\n",
              "      <td>TX</td>\n",
              "      <td>88976841</td>\n",
              "      <td>1</td>\n",
              "      <td>1</td>\n",
              "      <td>030</td>\n",
              "      <td>046</td>\n",
              "      <td>6</td>\n",
              "      <td>20190224</td>\n",
              "      <td>20190918</td>\n",
              "      <td>20190918</td>\n",
              "      <td>030</td>\n",
              "    </tr>\n",
              "    <tr>\n",
              "      <th>173546</th>\n",
              "      <td>TX</td>\n",
              "      <td>88976853</td>\n",
              "      <td>1</td>\n",
              "      <td>1</td>\n",
              "      <td>029</td>\n",
              "      <td>046</td>\n",
              "      <td>6</td>\n",
              "      <td>20190717</td>\n",
              "      <td>20200101</td>\n",
              "      <td>20200101</td>\n",
              "      <td>029</td>\n",
              "    </tr>\n",
              "    <tr>\n",
              "      <th>173547</th>\n",
              "      <td>TX</td>\n",
              "      <td>88976866</td>\n",
              "      <td>1</td>\n",
              "      <td>1</td>\n",
              "      <td>029</td>\n",
              "      <td>046</td>\n",
              "      <td>6</td>\n",
              "      <td>20181202</td>\n",
              "      <td>20200117</td>\n",
              "      <td>20200117</td>\n",
              "      <td>029</td>\n",
              "    </tr>\n",
              "  </tbody>\n",
              "</table>\n",
              "<p>173548 rows × 11 columns</p>\n",
              "</div>"
            ],
            "text/plain": [
              "       action-key  ... classification|primary-code\n",
              "0              IB  ...                         036\n",
              "1              IB  ...                         036\n",
              "2              IB  ...                         036\n",
              "3              IB  ...                         041\n",
              "4              IB  ...                         041\n",
              "...           ...  ...                         ...\n",
              "173543         TX  ...                         029\n",
              "173544         TX  ...                         030\n",
              "173545         TX  ...                         030\n",
              "173546         TX  ...                         029\n",
              "173547         TX  ...                         029\n",
              "\n",
              "[173548 rows x 11 columns]"
            ]
          },
          "metadata": {
            "tags": []
          },
          "execution_count": 8
        }
      ]
    },
    {
      "cell_type": "code",
      "metadata": {
        "id": "RbWEavpZZQF_",
        "colab_type": "code",
        "colab": {}
      },
      "source": [
        ""
      ],
      "execution_count": 0,
      "outputs": []
    }
  ]
}